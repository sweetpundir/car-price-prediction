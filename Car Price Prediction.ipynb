{
 "cells": [
  {
   "cell_type": "markdown",
   "id": "00c7eff6",
   "metadata": {},
   "source": [
    "## CAR PRICE PREDICTION"
   ]
  },
  {
   "cell_type": "markdown",
   "id": "3f4bab2a",
   "metadata": {},
   "source": [
    "With the covid 19 impact in the market, we have seen lot of changes in the car market. Now some \n",
    "cars are in demand hence making them costly and some are not in demand hence cheaper. One \n",
    "of our clients works with small traders, who sell used cars. With the change in market due to covid \n",
    "19 impact, our client is facing problems with their previous car price valuation machine learning \n",
    "models. So, they are looking for new machine learning models from new data. We have to make \n",
    "car price valuation model. This project contains two phase\u0002"
   ]
  },
  {
   "cell_type": "markdown",
   "id": "4933d9fc",
   "metadata": {},
   "source": [
    "In phase-1 we have to scrap data from website like car dekho which is already done.\n",
    "so lets move to phase-2 which is model building."
   ]
  },
  {
   "cell_type": "markdown",
   "id": "d1ca65da",
   "metadata": {},
   "source": [
    "### Model Building Phase"
   ]
  },
  {
   "cell_type": "markdown",
   "id": "3425bd52",
   "metadata": {},
   "source": [
    "### importing liberaries"
   ]
  },
  {
   "cell_type": "code",
   "execution_count": 2,
   "id": "fe3d204b",
   "metadata": {},
   "outputs": [],
   "source": [
    "#data lib\n",
    "import pandas as pd\n",
    "import numpy as np\n",
    "\n",
    "#visualization\n",
    "import matplotlib.pyplot as plt\n",
    "import seaborn as sns\n",
    "%matplotlib inline\n",
    "\n",
    "#preprocessing\n",
    "from sklearn.preprocessing import StandardScaler\n",
    "from sklearn.model_selection import GridSearchCV,train_test_split\n",
    "\n",
    "#models-Since it is regression problem so we will import regression algorithm lib\n",
    "from sklearn.linear_model import LinearRegression\n",
    "from sklearn.ensemble import RandomForestRegressor\n",
    "from sklearn.ensemble import AdaBoostRegressor\n",
    "\n",
    "\n",
    "#metrics\n",
    "from sklearn.metrics import r2_score,mean_absolute_error,mean_squared_error\n",
    "\n",
    "\n",
    "#model save\n",
    "import pickle\n",
    "import warnings\n",
    "warnings.filterwarnings('ignore')"
   ]
  },
  {
   "cell_type": "code",
   "execution_count": 3,
   "id": "2b346ca8",
   "metadata": {},
   "outputs": [],
   "source": [
    "#loading dataset\n",
    "\n",
    "data=pd.read_csv(r'C:\\Users\\91995\\Downloads\\CAR DETAILS FROM CAR DEKHO.csv')"
   ]
  },
  {
   "cell_type": "code",
   "execution_count": 4,
   "id": "d0fa2f72",
   "metadata": {},
   "outputs": [
    {
     "data": {
      "text/html": [
       "<div>\n",
       "<style scoped>\n",
       "    .dataframe tbody tr th:only-of-type {\n",
       "        vertical-align: middle;\n",
       "    }\n",
       "\n",
       "    .dataframe tbody tr th {\n",
       "        vertical-align: top;\n",
       "    }\n",
       "\n",
       "    .dataframe thead th {\n",
       "        text-align: right;\n",
       "    }\n",
       "</style>\n",
       "<table border=\"1\" class=\"dataframe\">\n",
       "  <thead>\n",
       "    <tr style=\"text-align: right;\">\n",
       "      <th></th>\n",
       "      <th>name</th>\n",
       "      <th>year</th>\n",
       "      <th>selling_price</th>\n",
       "      <th>km_driven</th>\n",
       "      <th>fuel</th>\n",
       "      <th>seller_type</th>\n",
       "      <th>transmission</th>\n",
       "      <th>owner</th>\n",
       "    </tr>\n",
       "  </thead>\n",
       "  <tbody>\n",
       "    <tr>\n",
       "      <th>0</th>\n",
       "      <td>Maruti 800 AC</td>\n",
       "      <td>2007</td>\n",
       "      <td>60000</td>\n",
       "      <td>70000</td>\n",
       "      <td>Petrol</td>\n",
       "      <td>Individual</td>\n",
       "      <td>Manual</td>\n",
       "      <td>First Owner</td>\n",
       "    </tr>\n",
       "    <tr>\n",
       "      <th>1</th>\n",
       "      <td>Maruti Wagon R LXI Minor</td>\n",
       "      <td>2007</td>\n",
       "      <td>135000</td>\n",
       "      <td>50000</td>\n",
       "      <td>Petrol</td>\n",
       "      <td>Individual</td>\n",
       "      <td>Manual</td>\n",
       "      <td>First Owner</td>\n",
       "    </tr>\n",
       "    <tr>\n",
       "      <th>2</th>\n",
       "      <td>Hyundai Verna 1.6 SX</td>\n",
       "      <td>2012</td>\n",
       "      <td>600000</td>\n",
       "      <td>100000</td>\n",
       "      <td>Diesel</td>\n",
       "      <td>Individual</td>\n",
       "      <td>Manual</td>\n",
       "      <td>First Owner</td>\n",
       "    </tr>\n",
       "    <tr>\n",
       "      <th>3</th>\n",
       "      <td>Datsun RediGO T Option</td>\n",
       "      <td>2017</td>\n",
       "      <td>250000</td>\n",
       "      <td>46000</td>\n",
       "      <td>Petrol</td>\n",
       "      <td>Individual</td>\n",
       "      <td>Manual</td>\n",
       "      <td>First Owner</td>\n",
       "    </tr>\n",
       "    <tr>\n",
       "      <th>4</th>\n",
       "      <td>Honda Amaze VX i-DTEC</td>\n",
       "      <td>2014</td>\n",
       "      <td>450000</td>\n",
       "      <td>141000</td>\n",
       "      <td>Diesel</td>\n",
       "      <td>Individual</td>\n",
       "      <td>Manual</td>\n",
       "      <td>Second Owner</td>\n",
       "    </tr>\n",
       "    <tr>\n",
       "      <th>...</th>\n",
       "      <td>...</td>\n",
       "      <td>...</td>\n",
       "      <td>...</td>\n",
       "      <td>...</td>\n",
       "      <td>...</td>\n",
       "      <td>...</td>\n",
       "      <td>...</td>\n",
       "      <td>...</td>\n",
       "    </tr>\n",
       "    <tr>\n",
       "      <th>4335</th>\n",
       "      <td>Hyundai i20 Magna 1.4 CRDi (Diesel)</td>\n",
       "      <td>2014</td>\n",
       "      <td>409999</td>\n",
       "      <td>80000</td>\n",
       "      <td>Diesel</td>\n",
       "      <td>Individual</td>\n",
       "      <td>Manual</td>\n",
       "      <td>Second Owner</td>\n",
       "    </tr>\n",
       "    <tr>\n",
       "      <th>4336</th>\n",
       "      <td>Hyundai i20 Magna 1.4 CRDi</td>\n",
       "      <td>2014</td>\n",
       "      <td>409999</td>\n",
       "      <td>80000</td>\n",
       "      <td>Diesel</td>\n",
       "      <td>Individual</td>\n",
       "      <td>Manual</td>\n",
       "      <td>Second Owner</td>\n",
       "    </tr>\n",
       "    <tr>\n",
       "      <th>4337</th>\n",
       "      <td>Maruti 800 AC BSIII</td>\n",
       "      <td>2009</td>\n",
       "      <td>110000</td>\n",
       "      <td>83000</td>\n",
       "      <td>Petrol</td>\n",
       "      <td>Individual</td>\n",
       "      <td>Manual</td>\n",
       "      <td>Second Owner</td>\n",
       "    </tr>\n",
       "    <tr>\n",
       "      <th>4338</th>\n",
       "      <td>Hyundai Creta 1.6 CRDi SX Option</td>\n",
       "      <td>2016</td>\n",
       "      <td>865000</td>\n",
       "      <td>90000</td>\n",
       "      <td>Diesel</td>\n",
       "      <td>Individual</td>\n",
       "      <td>Manual</td>\n",
       "      <td>First Owner</td>\n",
       "    </tr>\n",
       "    <tr>\n",
       "      <th>4339</th>\n",
       "      <td>Renault KWID RXT</td>\n",
       "      <td>2016</td>\n",
       "      <td>225000</td>\n",
       "      <td>40000</td>\n",
       "      <td>Petrol</td>\n",
       "      <td>Individual</td>\n",
       "      <td>Manual</td>\n",
       "      <td>First Owner</td>\n",
       "    </tr>\n",
       "  </tbody>\n",
       "</table>\n",
       "<p>4340 rows × 8 columns</p>\n",
       "</div>"
      ],
      "text/plain": [
       "                                     name  year  selling_price  km_driven  \\\n",
       "0                           Maruti 800 AC  2007          60000      70000   \n",
       "1                Maruti Wagon R LXI Minor  2007         135000      50000   \n",
       "2                    Hyundai Verna 1.6 SX  2012         600000     100000   \n",
       "3                  Datsun RediGO T Option  2017         250000      46000   \n",
       "4                   Honda Amaze VX i-DTEC  2014         450000     141000   \n",
       "...                                   ...   ...            ...        ...   \n",
       "4335  Hyundai i20 Magna 1.4 CRDi (Diesel)  2014         409999      80000   \n",
       "4336           Hyundai i20 Magna 1.4 CRDi  2014         409999      80000   \n",
       "4337                  Maruti 800 AC BSIII  2009         110000      83000   \n",
       "4338     Hyundai Creta 1.6 CRDi SX Option  2016         865000      90000   \n",
       "4339                     Renault KWID RXT  2016         225000      40000   \n",
       "\n",
       "        fuel seller_type transmission         owner  \n",
       "0     Petrol  Individual       Manual   First Owner  \n",
       "1     Petrol  Individual       Manual   First Owner  \n",
       "2     Diesel  Individual       Manual   First Owner  \n",
       "3     Petrol  Individual       Manual   First Owner  \n",
       "4     Diesel  Individual       Manual  Second Owner  \n",
       "...      ...         ...          ...           ...  \n",
       "4335  Diesel  Individual       Manual  Second Owner  \n",
       "4336  Diesel  Individual       Manual  Second Owner  \n",
       "4337  Petrol  Individual       Manual  Second Owner  \n",
       "4338  Diesel  Individual       Manual   First Owner  \n",
       "4339  Petrol  Individual       Manual   First Owner  \n",
       "\n",
       "[4340 rows x 8 columns]"
      ]
     },
     "execution_count": 4,
     "metadata": {},
     "output_type": "execute_result"
    }
   ],
   "source": [
    "data"
   ]
  },
  {
   "cell_type": "markdown",
   "id": "689040f0",
   "metadata": {},
   "source": [
    "### EDA"
   ]
  },
  {
   "cell_type": "markdown",
   "id": "1e4d0a5c",
   "metadata": {},
   "source": [
    "As we can see in name feature we have car company name & variant so we can seperate it."
   ]
  },
  {
   "cell_type": "code",
   "execution_count": 7,
   "id": "00cdc07f",
   "metadata": {},
   "outputs": [],
   "source": [
    "data['Brand']=data['name'].apply(lambda x:x.split(' ')[0])"
   ]
  },
  {
   "cell_type": "code",
   "execution_count": 13,
   "id": "a9701aa0",
   "metadata": {},
   "outputs": [],
   "source": [
    "data['variant']=data['name'].apply(lambda x:x.split(' ',1)[1])"
   ]
  },
  {
   "cell_type": "code",
   "execution_count": 17,
   "id": "68b02b91",
   "metadata": {},
   "outputs": [],
   "source": [
    "#feature name has splitted into new feature so now we can remove orignal feature\n",
    "\n",
    "del data['name']"
   ]
  },
  {
   "cell_type": "markdown",
   "id": "d0e3b085",
   "metadata": {},
   "source": [
    "#### Data overview"
   ]
  },
  {
   "cell_type": "code",
   "execution_count": 19,
   "id": "89f01f37",
   "metadata": {},
   "outputs": [
    {
     "data": {
      "text/plain": [
       "(4340, 9)"
      ]
     },
     "execution_count": 19,
     "metadata": {},
     "output_type": "execute_result"
    }
   ],
   "source": [
    "data.shape"
   ]
  },
  {
   "cell_type": "markdown",
   "id": "ebcb6155",
   "metadata": {},
   "source": [
    "we have total 4340 observations and 8 features to predict target i.e. selling price."
   ]
  },
  {
   "cell_type": "markdown",
   "id": "f44a751c",
   "metadata": {},
   "source": [
    "#### Duplicacy Test"
   ]
  },
  {
   "cell_type": "code",
   "execution_count": 21,
   "id": "4162ac67",
   "metadata": {},
   "outputs": [
    {
     "data": {
      "text/plain": [
       "763"
      ]
     },
     "execution_count": 21,
     "metadata": {},
     "output_type": "execute_result"
    }
   ],
   "source": [
    "data.duplicated().sum()"
   ]
  },
  {
   "cell_type": "code",
   "execution_count": 23,
   "id": "b409f343",
   "metadata": {},
   "outputs": [],
   "source": [
    "#we found 763 duplicate observations in data set so we can remove these duplicacy.\n",
    "\n",
    "data.drop_duplicates(inplace=True)"
   ]
  },
  {
   "cell_type": "code",
   "execution_count": 24,
   "id": "1194fc8b",
   "metadata": {},
   "outputs": [
    {
     "data": {
      "text/plain": [
       "year               27\n",
       "selling_price     445\n",
       "km_driven         770\n",
       "fuel                5\n",
       "seller_type         3\n",
       "transmission        2\n",
       "owner               5\n",
       "Brand              29\n",
       "variant          1491\n",
       "dtype: int64"
      ]
     },
     "execution_count": 24,
     "metadata": {},
     "output_type": "execute_result"
    }
   ],
   "source": [
    "data.nunique()"
   ]
  },
  {
   "cell_type": "markdown",
   "id": "a0ddc74b",
   "metadata": {},
   "source": [
    "### Distplot"
   ]
  },
  {
   "cell_type": "code",
   "execution_count": 33,
   "id": "fe4645f6",
   "metadata": {},
   "outputs": [
    {
     "data": {
      "image/png": "[encoded data removed]",
      "text/plain": [
       "<Figure size 1440x720 with 3 Axes>"
      ]
     },
     "metadata": {
      "needs_background": "light"
     },
     "output_type": "display_data"
    }
   ],
   "source": [
    "plt.figure(figsize=(20,10))\n",
    "\n",
    "plotnumber=1\n",
    "\n",
    "for col in data:\n",
    "    if plotnumber<=3:\n",
    "        ax=plt.subplot(2,2,plotnumber)\n",
    "        sns.distplot(data[col])\n",
    "    plotnumber+=1\n",
    "        \n",
    "plt.tight_layout()"
   ]
  },
  {
   "cell_type": "markdown",
   "id": "88b37511",
   "metadata": {},
   "source": [
    "Feature year data seems normal.\n",
    "But selling price and km driven clearly shown some outliers. so need to remove these outliers."
   ]
  },
  {
   "cell_type": "markdown",
   "id": "5b51eeaf",
   "metadata": {},
   "source": [
    "#### Null Data"
   ]
  },
  {
   "cell_type": "code",
   "execution_count": 34,
   "id": "33591bb9",
   "metadata": {},
   "outputs": [
    {
     "data": {
      "text/plain": [
       "year             0\n",
       "selling_price    0\n",
       "km_driven        0\n",
       "fuel             0\n",
       "seller_type      0\n",
       "transmission     0\n",
       "owner            0\n",
       "Brand            0\n",
       "variant          0\n",
       "dtype: int64"
      ]
     },
     "execution_count": 34,
     "metadata": {},
     "output_type": "execute_result"
    }
   ],
   "source": [
    "data.isna().sum()"
   ]
  },
  {
   "cell_type": "raw",
   "id": "7fb8b0bb",
   "metadata": {},
   "source": [
    "we can see there is no null values in dataset."
   ]
  },
  {
   "cell_type": "code",
   "execution_count": 35,
   "id": "b6fab268",
   "metadata": {},
   "outputs": [
    {
     "data": {
      "text/html": [
       "<div>\n",
       "<style scoped>\n",
       "    .dataframe tbody tr th:only-of-type {\n",
       "        vertical-align: middle;\n",
       "    }\n",
       "\n",
       "    .dataframe tbody tr th {\n",
       "        vertical-align: top;\n",
       "    }\n",
       "\n",
       "    .dataframe thead th {\n",
       "        text-align: right;\n",
       "    }\n",
       "</style>\n",
       "<table border=\"1\" class=\"dataframe\">\n",
       "  <thead>\n",
       "    <tr style=\"text-align: right;\">\n",
       "      <th></th>\n",
       "      <th>year</th>\n",
       "      <th>selling_price</th>\n",
       "      <th>km_driven</th>\n",
       "    </tr>\n",
       "  </thead>\n",
       "  <tbody>\n",
       "    <tr>\n",
       "      <th>count</th>\n",
       "      <td>3577.000000</td>\n",
       "      <td>3.577000e+03</td>\n",
       "      <td>3577.000000</td>\n",
       "    </tr>\n",
       "    <tr>\n",
       "      <th>mean</th>\n",
       "      <td>2012.962538</td>\n",
       "      <td>4.739125e+05</td>\n",
       "      <td>69250.545709</td>\n",
       "    </tr>\n",
       "    <tr>\n",
       "      <th>std</th>\n",
       "      <td>4.251759</td>\n",
       "      <td>5.093018e+05</td>\n",
       "      <td>47579.940016</td>\n",
       "    </tr>\n",
       "    <tr>\n",
       "      <th>min</th>\n",
       "      <td>1992.000000</td>\n",
       "      <td>2.000000e+04</td>\n",
       "      <td>1.000000</td>\n",
       "    </tr>\n",
       "    <tr>\n",
       "      <th>25%</th>\n",
       "      <td>2010.000000</td>\n",
       "      <td>2.000000e+05</td>\n",
       "      <td>36000.000000</td>\n",
       "    </tr>\n",
       "    <tr>\n",
       "      <th>50%</th>\n",
       "      <td>2013.000000</td>\n",
       "      <td>3.500000e+05</td>\n",
       "      <td>60000.000000</td>\n",
       "    </tr>\n",
       "    <tr>\n",
       "      <th>75%</th>\n",
       "      <td>2016.000000</td>\n",
       "      <td>6.000000e+05</td>\n",
       "      <td>90000.000000</td>\n",
       "    </tr>\n",
       "    <tr>\n",
       "      <th>max</th>\n",
       "      <td>2020.000000</td>\n",
       "      <td>8.900000e+06</td>\n",
       "      <td>806599.000000</td>\n",
       "    </tr>\n",
       "  </tbody>\n",
       "</table>\n",
       "</div>"
      ],
      "text/plain": [
       "              year  selling_price      km_driven\n",
       "count  3577.000000   3.577000e+03    3577.000000\n",
       "mean   2012.962538   4.739125e+05   69250.545709\n",
       "std       4.251759   5.093018e+05   47579.940016\n",
       "min    1992.000000   2.000000e+04       1.000000\n",
       "25%    2010.000000   2.000000e+05   36000.000000\n",
       "50%    2013.000000   3.500000e+05   60000.000000\n",
       "75%    2016.000000   6.000000e+05   90000.000000\n",
       "max    2020.000000   8.900000e+06  806599.000000"
      ]
     },
     "execution_count": 35,
     "metadata": {},
     "output_type": "execute_result"
    }
   ],
   "source": [
    "data.describe()"
   ]
  },
  {
   "cell_type": "code",
   "execution_count": 37,
   "id": "d7af4214",
   "metadata": {},
   "outputs": [
    {
     "data": {
      "text/plain": [
       "20000"
      ]
     },
     "execution_count": 37,
     "metadata": {},
     "output_type": "execute_result"
    }
   ],
   "source": [
    "data['selling_price'].min()"
   ]
  },
  {
   "cell_type": "markdown",
   "id": "4fb523b8",
   "metadata": {},
   "source": [
    "### Removing Outliers"
   ]
  },
  {
   "cell_type": "code",
   "execution_count": 40,
   "id": "f721a86b",
   "metadata": {},
   "outputs": [],
   "source": [
    "def outlier_treatment(datacolumn):\n",
    " sorted(datacolumn)\n",
    " Q1,Q3 = np.percentile(datacolumn , [25,75])\n",
    " IQR = Q3-Q1\n",
    " lower_range = Q1 -(1.5 * IQR)\n",
    " upper_range = Q3 + (1.5 * IQR)\n",
    " return lower_range,upper_range"
   ]
  },
  {
   "cell_type": "code",
   "execution_count": 42,
   "id": "492d62e3",
   "metadata": {},
   "outputs": [],
   "source": [
    "low,high=outlier_treatment(data.selling_price)"
   ]
  },
  {
   "cell_type": "code",
   "execution_count": 51,
   "id": "439be90b",
   "metadata": {},
   "outputs": [],
   "source": [
    "data.drop(data[(data['selling_price']<low) | (data['selling_price']>high)].index,inplace=True)"
   ]
  },
  {
   "cell_type": "code",
   "execution_count": 57,
   "id": "39edb227",
   "metadata": {},
   "outputs": [],
   "source": [
    "km_low,km_high=outlier_treatment(data.km_driven)"
   ]
  },
  {
   "cell_type": "code",
   "execution_count": 60,
   "id": "9efdffdd",
   "metadata": {},
   "outputs": [],
   "source": [
    "data.drop(data[(data['km_driven']<km_low) | (data['km_driven']>km_high)].index,inplace=True)"
   ]
  },
  {
   "cell_type": "code",
   "execution_count": 62,
   "id": "856e361c",
   "metadata": {},
   "outputs": [
    {
     "data": {
      "text/html": [
       "<div>\n",
       "<style scoped>\n",
       "    .dataframe tbody tr th:only-of-type {\n",
       "        vertical-align: middle;\n",
       "    }\n",
       "\n",
       "    .dataframe tbody tr th {\n",
       "        vertical-align: top;\n",
       "    }\n",
       "\n",
       "    .dataframe thead th {\n",
       "        text-align: right;\n",
       "    }\n",
       "</style>\n",
       "<table border=\"1\" class=\"dataframe\">\n",
       "  <thead>\n",
       "    <tr style=\"text-align: right;\">\n",
       "      <th></th>\n",
       "      <th>year</th>\n",
       "      <th>selling_price</th>\n",
       "      <th>km_driven</th>\n",
       "    </tr>\n",
       "  </thead>\n",
       "  <tbody>\n",
       "    <tr>\n",
       "      <th>count</th>\n",
       "      <td>3287.000000</td>\n",
       "      <td>3.287000e+03</td>\n",
       "      <td>3287.000000</td>\n",
       "    </tr>\n",
       "    <tr>\n",
       "      <th>mean</th>\n",
       "      <td>2012.889565</td>\n",
       "      <td>3.927348e+05</td>\n",
       "      <td>64896.768178</td>\n",
       "    </tr>\n",
       "    <tr>\n",
       "      <th>std</th>\n",
       "      <td>4.263852</td>\n",
       "      <td>2.534219e+05</td>\n",
       "      <td>35951.861622</td>\n",
       "    </tr>\n",
       "    <tr>\n",
       "      <th>min</th>\n",
       "      <td>1992.000000</td>\n",
       "      <td>2.000000e+04</td>\n",
       "      <td>1.000000</td>\n",
       "    </tr>\n",
       "    <tr>\n",
       "      <th>25%</th>\n",
       "      <td>2010.000000</td>\n",
       "      <td>1.950000e+05</td>\n",
       "      <td>37802.500000</td>\n",
       "    </tr>\n",
       "    <tr>\n",
       "      <th>50%</th>\n",
       "      <td>2013.000000</td>\n",
       "      <td>3.300000e+05</td>\n",
       "      <td>60000.000000</td>\n",
       "    </tr>\n",
       "    <tr>\n",
       "      <th>75%</th>\n",
       "      <td>2016.000000</td>\n",
       "      <td>5.500000e+05</td>\n",
       "      <td>90000.000000</td>\n",
       "    </tr>\n",
       "    <tr>\n",
       "      <th>max</th>\n",
       "      <td>2020.000000</td>\n",
       "      <td>1.200000e+06</td>\n",
       "      <td>166000.000000</td>\n",
       "    </tr>\n",
       "  </tbody>\n",
       "</table>\n",
       "</div>"
      ],
      "text/plain": [
       "              year  selling_price      km_driven\n",
       "count  3287.000000   3.287000e+03    3287.000000\n",
       "mean   2012.889565   3.927348e+05   64896.768178\n",
       "std       4.263852   2.534219e+05   35951.861622\n",
       "min    1992.000000   2.000000e+04       1.000000\n",
       "25%    2010.000000   1.950000e+05   37802.500000\n",
       "50%    2013.000000   3.300000e+05   60000.000000\n",
       "75%    2016.000000   5.500000e+05   90000.000000\n",
       "max    2020.000000   1.200000e+06  166000.000000"
      ]
     },
     "execution_count": 62,
     "metadata": {},
     "output_type": "execute_result"
    }
   ],
   "source": [
    "data.describe()"
   ]
  },
  {
   "cell_type": "code",
   "execution_count": 65,
   "id": "1050e04d",
   "metadata": {},
   "outputs": [
    {
     "name": "stdout",
     "output_type": "stream",
     "text": [
      "<class 'pandas.core.frame.DataFrame'>\n",
      "Int64Index: 3287 entries, 0 to 4339\n",
      "Data columns (total 9 columns):\n",
      " #   Column         Non-Null Count  Dtype \n",
      "---  ------         --------------  ----- \n",
      " 0   year           3287 non-null   int64 \n",
      " 1   selling_price  3287 non-null   int64 \n",
      " 2   km_driven      3287 non-null   int64 \n",
      " 3   fuel           3287 non-null   object\n",
      " 4   seller_type    3287 non-null   object\n",
      " 5   transmission   3287 non-null   object\n",
      " 6   owner          3287 non-null   object\n",
      " 7   Brand          3287 non-null   object\n",
      " 8   variant        3287 non-null   object\n",
      "dtypes: int64(3), object(6)\n",
      "memory usage: 256.8+ KB\n"
     ]
    }
   ],
   "source": [
    "data.info()"
   ]
  },
  {
   "cell_type": "code",
   "execution_count": 66,
   "id": "06afb8e3",
   "metadata": {},
   "outputs": [
    {
     "data": {
      "text/plain": [
       "year               27\n",
       "selling_price     360\n",
       "km_driven         681\n",
       "fuel                5\n",
       "seller_type         3\n",
       "transmission        2\n",
       "owner               5\n",
       "Brand              22\n",
       "variant          1356\n",
       "dtype: int64"
      ]
     },
     "execution_count": 66,
     "metadata": {},
     "output_type": "execute_result"
    }
   ],
   "source": [
    "data.nunique()"
   ]
  },
  {
   "cell_type": "markdown",
   "id": "807dddb7",
   "metadata": {},
   "source": [
    "### Data Correlation"
   ]
  },
  {
   "cell_type": "code",
   "execution_count": 64,
   "id": "457ba2c9",
   "metadata": {},
   "outputs": [
    {
     "data": {
      "text/plain": [
       "<AxesSubplot:>"
      ]
     },
     "execution_count": 64,
     "metadata": {},
     "output_type": "execute_result"
    },
    {
     "data": {
      "image/png": "[encoded data removed]",
      "text/plain": [
       "<Figure size 576x360 with 2 Axes>"
      ]
     },
     "metadata": {
      "needs_background": "light"
     },
     "output_type": "display_data"
    }
   ],
   "source": [
    "plt.figure(figsize=(8,5))\n",
    "sns.heatmap(data.corr(),annot=True)"
   ]
  },
  {
   "cell_type": "markdown",
   "id": "9684ab76",
   "metadata": {},
   "source": [
    "Here we have only 2 feature in dataset aprt from target which are numeric and its clearly shown in above map that these feature shave clear relationship with target-price"
   ]
  },
  {
   "cell_type": "markdown",
   "id": "50882ee4",
   "metadata": {},
   "source": [
    "### Encoding Features"
   ]
  },
  {
   "cell_type": "markdown",
   "id": "2551c84d",
   "metadata": {},
   "source": [
    "In our dataset we have 6 features which are object data type so we need to encode all these features."
   ]
  },
  {
   "cell_type": "code",
   "execution_count": null,
   "id": "40ffc71b",
   "metadata": {},
   "outputs": [],
   "source": [
    "#remove whitespace-lets remove white space from dataset if any.\n",
    "data.reset_index(inplace=True)"
   ]
  },
  {
   "cell_type": "code",
   "execution_count": 74,
   "id": "6c7615b8",
   "metadata": {},
   "outputs": [],
   "source": [
    "data=data.apply(lambda x: x.str.strip() if x.dtype == \"object\" else x)"
   ]
  },
  {
   "cell_type": "code",
   "execution_count": 77,
   "id": "c43ae698",
   "metadata": {},
   "outputs": [],
   "source": [
    "data=data.drop(columns=['level_0','index'])"
   ]
  },
  {
   "cell_type": "code",
   "execution_count": 83,
   "id": "a13d2deb",
   "metadata": {},
   "outputs": [
    {
     "name": "stdout",
     "output_type": "stream",
     "text": [
      "fuel\n",
      "seller_type\n",
      "transmission\n",
      "owner\n",
      "Brand\n",
      "variant\n"
     ]
    }
   ],
   "source": [
    "for col in data.columns:\n",
    "    if data[col].dtypes=='object':\n",
    "        print(col)\n",
    "        "
   ]
  },
  {
   "cell_type": "code",
   "execution_count": 88,
   "id": "4a7baf2c",
   "metadata": {},
   "outputs": [],
   "source": [
    "data['transmission'].unique()\n",
    "\n",
    "data['transmission']=data['transmission'].replace(['Manual', 'Automatic'],[1,0])"
   ]
  },
  {
   "cell_type": "code",
   "execution_count": 93,
   "id": "29beb0bf",
   "metadata": {},
   "outputs": [],
   "source": [
    "data=pd.get_dummies(data,columns=['fuel','seller_type','owner','Brand','variant'])"
   ]
  },
  {
   "cell_type": "code",
   "execution_count": 94,
   "id": "c404ad30",
   "metadata": {},
   "outputs": [
    {
     "data": {
      "text/plain": [
       "(3287, 1395)"
      ]
     },
     "execution_count": 94,
     "metadata": {},
     "output_type": "execute_result"
    }
   ],
   "source": [
    "data.shape"
   ]
  },
  {
   "cell_type": "code",
   "execution_count": 95,
   "id": "c8dd703e",
   "metadata": {},
   "outputs": [],
   "source": [
    "for col in data.columns:\n",
    "    if data[col].dtypes=='object':\n",
    "        print(col)    "
   ]
  },
  {
   "cell_type": "markdown",
   "id": "b6c365d9",
   "metadata": {},
   "source": [
    "Data is all clean now & ready for model building"
   ]
  },
  {
   "cell_type": "markdown",
   "id": "8c09ead3",
   "metadata": {},
   "source": [
    "### Split Features"
   ]
  },
  {
   "cell_type": "code",
   "execution_count": 97,
   "id": "91a4e16b",
   "metadata": {},
   "outputs": [],
   "source": [
    "X=data.drop(columns=['selling_price'])\n",
    "y=data.selling_price  "
   ]
  },
  {
   "cell_type": "markdown",
   "id": "15f9dcc6",
   "metadata": {},
   "source": [
    "### Feature Scaling"
   ]
  },
  {
   "cell_type": "code",
   "execution_count": 99,
   "id": "dbf2204a",
   "metadata": {},
   "outputs": [],
   "source": [
    "scale=StandardScaler()\n",
    "x_scaled=scale.fit_transform(X)"
   ]
  },
  {
   "cell_type": "markdown",
   "id": "aa9c3c19",
   "metadata": {},
   "source": [
    "### Train Test Split"
   ]
  },
  {
   "cell_type": "code",
   "execution_count": 100,
   "id": "e04d773d",
   "metadata": {},
   "outputs": [],
   "source": [
    "x_train,x_test,y_train,y_test=train_test_split(x_scaled,y,test_size=0.25,random_state=91)"
   ]
  },
  {
   "cell_type": "markdown",
   "id": "8f1afde9",
   "metadata": {},
   "source": [
    "### Model Building"
   ]
  },
  {
   "cell_type": "code",
   "execution_count": 115,
   "id": "8c4a60cb",
   "metadata": {},
   "outputs": [],
   "source": [
    "lr=LinearRegression()\n",
    "rfr=RandomForestRegressor()\n",
    "ada=AdaBoostRegressor()"
   ]
  },
  {
   "cell_type": "code",
   "execution_count": 116,
   "id": "91e03e5b",
   "metadata": {},
   "outputs": [
    {
     "data": {
      "text/plain": [
       "AdaBoostRegressor()"
      ]
     },
     "execution_count": 116,
     "metadata": {},
     "output_type": "execute_result"
    }
   ],
   "source": [
    "lr.fit(x_train,y_train)\n",
    "rfr.fit(x_train,y_train)\n",
    "ada.fit(x_train,y_train)"
   ]
  },
  {
   "cell_type": "code",
   "execution_count": 117,
   "id": "f4fa8655",
   "metadata": {},
   "outputs": [
    {
     "name": "stdout",
     "output_type": "stream",
     "text": [
      "Linear Regression training score:  0.8245268559432609\n",
      "Random Forest training score:  0.9594786465395186\n",
      "AdaBoostRegressor training score:  0.4732693878036033\n"
     ]
    }
   ],
   "source": [
    "print('Linear Regression training score: ',lr.score(x_train,y_train))\n",
    "print('Random Forest training score: ',rfr.score(x_train,y_train))\n",
    "print('AdaBoostRegressor training score: ',ada.score(x_train,y_train))"
   ]
  },
  {
   "cell_type": "markdown",
   "id": "7dbccd24",
   "metadata": {},
   "source": [
    "### Model Evaluation"
   ]
  },
  {
   "cell_type": "code",
   "execution_count": 105,
   "id": "72bef38e",
   "metadata": {},
   "outputs": [
    {
     "name": "stdout",
     "output_type": "stream",
     "text": [
      "-5.080035726394433e+30\n"
     ]
    }
   ],
   "source": [
    "#lr score\n",
    "\n",
    "y_pred=lr.predict(x_test)\n",
    "print(r2_score(y_test,y_pred)*100)"
   ]
  },
  {
   "cell_type": "code",
   "execution_count": 118,
   "id": "f2462e5e",
   "metadata": {},
   "outputs": [
    {
     "name": "stdout",
     "output_type": "stream",
     "text": [
      "71.61506419295574\n"
     ]
    }
   ],
   "source": [
    "#rfr score\n",
    "\n",
    "y_pred=rfr.predict(x_test)\n",
    "print(r2_score(y_test,y_pred)*100)"
   ]
  },
  {
   "cell_type": "code",
   "execution_count": 107,
   "id": "e1a7334b",
   "metadata": {},
   "outputs": [
    {
     "name": "stdout",
     "output_type": "stream",
     "text": [
      "48.337744298574506\n"
     ]
    }
   ],
   "source": [
    "#ada score\n",
    "\n",
    "y_pred=ada.predict(x_test)\n",
    "print(r2_score(y_test,y_pred)*100)"
   ]
  },
  {
   "cell_type": "markdown",
   "id": "5f4bade6",
   "metadata": {},
   "source": [
    "We tried 3 algorithms and found that random forest training & test score is best amongs all."
   ]
  },
  {
   "cell_type": "markdown",
   "id": "90721778",
   "metadata": {},
   "source": [
    "### Cross Validation"
   ]
  },
  {
   "cell_type": "code",
   "execution_count": 108,
   "id": "1de22801",
   "metadata": {},
   "outputs": [],
   "source": [
    "from sklearn.model_selection import cross_val_score"
   ]
  },
  {
   "cell_type": "code",
   "execution_count": 119,
   "id": "422bd704",
   "metadata": {},
   "outputs": [
    {
     "name": "stdout",
     "output_type": "stream",
     "text": [
      "Linear Regression score: -4.409499481428228e+30\n",
      "Random Forest score: 69.75109310618683\n",
      "ADA score: 49.052602606743214\n"
     ]
    }
   ],
   "source": [
    "print('Linear Regression score:',np.mean(cross_val_score(lr,x_scaled,y))*100)\n",
    "\n",
    "print('Random Forest score:',np.mean(cross_val_score(rfr,x_scaled,y))*100)\n",
    "\n",
    "print('ADA score:',np.mean(cross_val_score(ada,x_scaled,y))*100)"
   ]
  },
  {
   "cell_type": "code",
   "execution_count": null,
   "id": "ae2d9e29",
   "metadata": {},
   "outputs": [],
   "source": [
    "Cross validation score also highest for Random forest regressor , so we will go with this algorithm"
   ]
  },
  {
   "cell_type": "markdown",
   "id": "afb2df63",
   "metadata": {},
   "source": [
    "#### Hyperparameter Tunning"
   ]
  },
  {
   "cell_type": "markdown",
   "id": "952e2b62",
   "metadata": {},
   "source": [
    "Here i am skipping this step because we dataset have too many features and in local machine its going take hours together."
   ]
  },
  {
   "cell_type": "markdown",
   "id": "a71df844",
   "metadata": {},
   "source": [
    "### Select Best Model"
   ]
  },
  {
   "cell_type": "markdown",
   "id": "b192c0af",
   "metadata": {},
   "source": [
    "We have check earlier with training score 96% , test score-71% and cross validation score 70% Random Forest regressor is our best model so we will go with it."
   ]
  },
  {
   "cell_type": "markdown",
   "id": "1514ea6c",
   "metadata": {},
   "source": [
    "### Final Score"
   ]
  },
  {
   "cell_type": "code",
   "execution_count": 120,
   "id": "71b31eb9",
   "metadata": {},
   "outputs": [
    {
     "name": "stdout",
     "output_type": "stream",
     "text": [
      "CV score of Random Forest score: 69.84343038728274\n",
      "R2_Score:  71.61506419295574\n",
      "Mean Square Error:  17774815251.404476\n",
      "Mean Absolute Error:  88522.1892526455\n"
     ]
    }
   ],
   "source": [
    "y_pred=rfr.predict(x_test)\n",
    "\n",
    "print('CV score of Random Forest score:',np.mean(cross_val_score(rfr,x_scaled,y))*100)\n",
    "print('R2_Score: ',r2_score(y_test,y_pred)*100)\n",
    "print('Mean Square Error: ',mean_squared_error(y_test,y_pred))\n",
    "print('Mean Absolute Error: ',mean_absolute_error(y_test,y_pred))"
   ]
  },
  {
   "cell_type": "markdown",
   "id": "88ca9e57",
   "metadata": {},
   "source": [
    "### Model Save"
   ]
  },
  {
   "cell_type": "code",
   "execution_count": 121,
   "id": "4ea44822",
   "metadata": {},
   "outputs": [],
   "source": [
    "filename='car_price.pickle'\n",
    "pickle.dump(rfr,open(filename,'wb'))"
   ]
  }
 ],
 "metadata": {
  "kernelspec": {
   "display_name": "Python 3",
   "language": "python",
   "name": "python3"
  },
  "language_info": {
   "codemirror_mode": {
    "name": "ipython",
    "version": 3
   },
   "file_extension": ".py",
   "mimetype": "text/x-python",
   "name": "python",
   "nbconvert_exporter": "python",
   "pygments_lexer": "ipython3",
   "version": "3.8.8"
  }
 },
 "nbformat": 4,
 "nbformat_minor": 5
}
