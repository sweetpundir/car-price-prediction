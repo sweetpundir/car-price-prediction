{
 "cells": [
  {
   "cell_type": "markdown",
   "id": "a5da938e",
   "metadata": {},
   "source": [
    "# Importing Liberary"
   ]
  },
  {
   "cell_type": "code",
   "execution_count": 1,
   "id": "164bb585",
   "metadata": {},
   "outputs": [],
   "source": [
    "import pandas as pd\n",
    "import numpy as np\n",
    "import time\n",
    "import selenium\n",
    "\n",
    "\n",
    "from selenium import webdriver\n",
    "import warnings\n",
    "warnings.filterwarnings('ignore')"
   ]
  },
  {
   "cell_type": "raw",
   "id": "06af86ed",
   "metadata": {},
   "source": [
    "Step1\tData fetching from different websites\n",
    "sites\t(Olx, cardekho, Cars24 etc.)\n",
    "features to fetch\tBrand, model, variant, manufacturing year, driven kilometers, fuel, number of owners, location and at last target variable Price of the car"
   ]
  },
  {
   "cell_type": "markdown",
   "id": "66e41ab9",
   "metadata": {},
   "source": [
    "### Page Loading with URL"
   ]
  },
  {
   "cell_type": "code",
   "execution_count": 32,
   "id": "c444192c",
   "metadata": {},
   "outputs": [],
   "source": [
    "url = 'https://www.cardekho.com/used-cars+in+new-delhi'\n",
    "driver=webdriver.Chrome(r'C:/Users/91995/Downloads/chromedriver_win32/chromedriver.exe')\n",
    "driver.get(url)\n",
    "time.sleep(5)"
   ]
  },
  {
   "cell_type": "markdown",
   "id": "f731d895",
   "metadata": {},
   "source": [
    "### Page Scroll Down"
   ]
  },
  {
   "cell_type": "code",
   "execution_count": 21,
   "id": "89d99adb",
   "metadata": {},
   "outputs": [],
   "source": [
    "for i in range(1,10,1):\n",
    "    SCROLL_PAUSE_TIME = 0.5\n",
    "\n",
    "    # Get scroll height\n",
    "    last_height = driver.execute_script(\"return document.body.scrollHeight\")\n",
    "\n",
    "    while True:\n",
    "        # Scroll down to bottom\n",
    "        driver.execute_script(\"window.scrollTo(0, document.body.scrollHeight);\")\n",
    "\n",
    "        # Wait to load page\n",
    "        time.sleep(SCROLL_PAUSE_TIME)\n",
    "\n",
    "        # Calculate new scroll height and compare with last scroll height\n",
    "        new_height = driver.execute_script(\"return document.body.scrollHeight\")\n",
    "        if new_height == last_height:\n",
    "            break\n",
    "        last_height = new_height\n",
    "        time.sleep(3)\n",
    "        i+=1"
   ]
  },
  {
   "cell_type": "markdown",
   "id": "3846a6ed",
   "metadata": {},
   "source": [
    "### Fetching all href link for each car"
   ]
  },
  {
   "cell_type": "code",
   "execution_count": 37,
   "id": "647ded12",
   "metadata": {},
   "outputs": [],
   "source": [
    "car_links=[]\n",
    "elems = driver.find_elements_by_xpath(\"//div[@class='gsc_col-xs-7  carsName']/a\")\n",
    "for elem in elems:\n",
    "    car_links.append(elem.get_attribute('href'))"
   ]
  },
  {
   "cell_type": "markdown",
   "id": "0c4e0866",
   "metadata": {},
   "source": [
    "### Create empty lists so hold features elements"
   ]
  },
  {
   "cell_type": "code",
   "execution_count": 40,
   "id": "b738d43e",
   "metadata": {},
   "outputs": [],
   "source": [
    "Brand=[]\n",
    "model=[]\n",
    "variant=[]\n",
    "Manufacturing_year=[]\n",
    "driven_kilometer=[]\n",
    "fuel=[]\n",
    "Number_of_owners=[]\n",
    "location=[]\n",
    "price=[]"
   ]
  },
  {
   "cell_type": "markdown",
   "id": "5a02d958",
   "metadata": {},
   "source": [
    "### Scrapping data  for each field using href links"
   ]
  },
  {
   "cell_type": "code",
   "execution_count": null,
   "id": "fe3df392",
   "metadata": {},
   "outputs": [],
   "source": [
    "for lnk in car_links:\n",
    "    driver=webdriver.Chrome(r'C:/Users/91995/Downloads/chromedriver_win32/chromedriver.exe')\n",
    "    driver.get(lnk)\n",
    "    time.sleep(2)\n",
    "    try:\n",
    "        br=driver.find_element_by_tag_name('h1')\n",
    "        Brand.append(br.text)\n",
    "    except:\n",
    "        Brand.append('-')\n",
    "     \n",
    "    try:   \n",
    "        var=driver.find_element_by_xpath(\"//div[@class='variant-name']\")\n",
    "        variant.append(var.text)\n",
    "    except:\n",
    "        variant.append('-')\n",
    "        \n",
    "    try:    \n",
    "        mod1=driver.find_element_by_xpath(\"//div[@class='fontweight500 value']\")\n",
    "        Manufacturing_year.append(mod1.text)\n",
    "    except:\n",
    "        Manufacturing_year.append('-')\n",
    "        \n",
    "    try:    \n",
    "        mod=driver.find_element_by_xpath(\"/html/body/div[2]/div/div[1]/div/div/main/div/div/div[1]/div[3]/div/div/div/ul/li[2]/div/div[2]\")\n",
    "        model.append(mod.text)\n",
    "    except:\n",
    "        model.append('-')\n",
    "    try:    \n",
    "        km=driver.find_element_by_xpath(\"/html/body/div[2]/div/div[1]/div/div/main/div/div/div[1]/div[3]/div/div/div/ul/li[4]/div/div[2]\")\n",
    "        driven_kilometer.append(km.text)\n",
    "    except:\n",
    "        driven_kilometer.append('-')\n",
    "        \n",
    "    try:\n",
    "        fl=driver.find_element_by_xpath(\"/html/body/div[2]/div/div[1]/div/div/main/div/div/div[1]/div[3]/div/div/div/ul/li[3]/div/div[2]\")\n",
    "        fuel.append(fl.text)\n",
    "    except:\n",
    "        fuel.append('-')\n",
    "        \n",
    "        \n",
    "    try:\n",
    "        own=driver.find_element_by_xpath(\"/html/body/div[2]/div/div[1]/div/div/main/div/div/div[1]/div[3]/div/div/div/ul/li[6]/div/div[2]\")\n",
    "        Number_of_owners.append(own.text)\n",
    "    except:\n",
    "        Number_of_owners.append('-')\n",
    "        \n",
    "    try:\n",
    "        loc=driver.find_element_by_xpath(\"/html/body/div[2]/div/div[1]/div/div/main/div/div/div[1]/div[3]/div/div/div/ul/li[7]/div/div[2]\")\n",
    "        location.append(loc.text)\n",
    "    except:\n",
    "        location.append('-')\n",
    "        \n",
    "    try:    \n",
    "        pri=driver.find_element_by_xpath(\"/html/body/div[2]/div/div[1]/div/div/main/div/div/div[2]/div[1]/div/div/div/div[1]/div[2]/div[1]/div[1]/span[2]\")\n",
    "        price.append(pri.text)\n",
    "    except:\n",
    "         price.append('-')\n",
    "        \n",
    "        \n",
    "    driver.close()"
   ]
  },
  {
   "cell_type": "code",
   "execution_count": null,
   "id": "cabf29ea",
   "metadata": {},
   "outputs": [],
   "source": [
    "#check len for each list, it should be same\n",
    "print(len(variant),len(Brand),len(location),len(fuel),len(Manufacturing_year),len(Number_of_owners),len(driven_kilometer),len(price))"
   ]
  },
  {
   "cell_type": "markdown",
   "id": "8525bc5b",
   "metadata": {},
   "source": [
    "### Creating Dataframe using all lists"
   ]
  },
  {
   "cell_type": "code",
   "execution_count": null,
   "id": "ed0c02b5",
   "metadata": {},
   "outputs": [],
   "source": [
    "car_data=pd.DataFrame({\n",
    "    'Brand':Brand,\n",
    "    'model':model,\n",
    "    'variant':variant,\n",
    "    'location':location,\n",
    "    'fuel':fuel,\n",
    "    'Manufacturing_year':Manufacturing_year,\n",
    "    'Number_of_owners':Number_of_owners,\n",
    "    'price':price\n",
    "    })\n",
    "    \n",
    "    \n",
    "car_data.to_csv('car_data.csv')"
   ]
  },
  {
   "cell_type": "markdown",
   "id": "3343cf2f",
   "metadata": {},
   "source": [
    "We can use above code to fetch data and later on data can be use for building a model."
   ]
  }
 ],
 "metadata": {
  "kernelspec": {
   "display_name": "Python 3",
   "language": "python",
   "name": "python3"
  },
  "language_info": {
   "codemirror_mode": {
    "name": "ipython",
    "version": 3
   },
   "file_extension": ".py",
   "mimetype": "text/x-python",
   "name": "python",
   "nbconvert_exporter": "python",
   "pygments_lexer": "ipython3",
   "version": "3.8.8"
  }
 },
 "nbformat": 4,
 "nbformat_minor": 5
}
